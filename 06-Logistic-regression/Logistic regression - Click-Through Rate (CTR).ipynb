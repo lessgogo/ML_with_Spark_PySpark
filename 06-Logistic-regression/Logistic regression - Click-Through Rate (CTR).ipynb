{
 "cells": [
  {
   "cell_type": "markdown",
   "metadata": {},
   "source": [
    "![ML Logo](http://spark-mooc.github.io/web-assets/images/CS190.1x_Banner_300.png)\n",
    "# **Click-Through Rate Prediction Lab**\n",
    "#### This lab covers the steps for creating a click-through rate (CTR) prediction pipeline.  You will work with the [Criteo Labs](http://labs.criteo.com/) dataset that was used for a recent [Kaggle competition](https://www.kaggle.com/c/criteo-display-ad-challenge).\n",
    "#### ** This lab will cover: **\n",
    "+  ####*Part 1:* Featurize categorical data using one-hot-encoding (OHE)\n",
    "+  ####*Part 2:* Construct an OHE dictionary\n",
    "+  ####*Part 3:* Parse CTR data and generate OHE features\n",
    " + #### *Visualization 1:* Feature frequency\n",
    "+  ####*Part 4:* CTR prediction and logloss evaluation\n",
    " + #### *Visualization 2:* ROC curve\n",
    "+  ####*Part 5:* Reduce feature dimension via feature hashing\n",
    " + #### *Visualization 3:* Hyperparameter heat map\n",
    " \n",
    "#### Note that, for reference, you can look up the details of the relevant Spark methods in [Spark's Python API](https://spark.apache.org/docs/latest/api/python/pyspark.html#pyspark.RDD) and the relevant NumPy methods in the [NumPy Reference](http://docs.scipy.org/doc/numpy/reference/index.html)"
   ]
  },
  {
   "cell_type": "code",
   "execution_count": 1,
   "metadata": {
    "collapsed": false
   },
   "outputs": [],
   "source": [
    "labVersion = 'cs190_week4_v_1_3'"
   ]
  },
  {
   "cell_type": "markdown",
   "metadata": {},
   "source": [
    "### ** Part 1: Featurize categorical data using one-hot-encoding **"
   ]
  },
  {
   "cell_type": "markdown",
   "metadata": {},
   "source": [
    "#### ** (1a) One-hot-encoding **\n",
    "#### We would like to develop code to convert categorical features to numerical ones, and to build intuition, we will work with a sample unlabeled dataset with three data points, with each data point representing an animal. The first feature indicates the type of animal (bear, cat, mouse); the second feature describes the animal's color (black, tabby); and the third (optional) feature describes what the animal eats (mouse, salmon).\n",
    "#### In a one-hot-encoding (OHE) scheme, we want to represent each tuple of `(featureID, category)` via its own binary feature.  We can do this in Python by creating a dictionary that maps each tuple to a distinct integer, where the integer corresponds to a binary feature. To start, manually enter the entries in the OHE dictionary associated with the sample dataset by mapping the tuples to consecutive integers starting from zero,  ordering the tuples first by featureID and next by category.\n",
    "#### Later in this lab, we'll use OHE dictionaries to transform data points into compact lists of features that can be used in machine learning algorithms."
   ]
  },
  {
   "cell_type": "code",
   "execution_count": 2,
   "metadata": {
    "collapsed": false
   },
   "outputs": [],
   "source": [
    "# Data for manual OHE\n",
    "# Note: the first data point does not include any value for the optional third feature\n",
    "sampleOne = [(0, 'mouse'), (1, 'black')]\n",
    "sampleTwo = [(0, 'cat'), (1, 'tabby'), (2, 'mouse')]\n",
    "sampleThree =  [(0, 'bear'), (1, 'black'), (2, 'salmon')]\n",
    "sampleDataRDD = sc.parallelize([sampleOne, sampleTwo, sampleThree])"
   ]
  },
  {
   "cell_type": "code",
   "execution_count": 3,
   "metadata": {
    "collapsed": false
   },
   "outputs": [],
   "source": [
    "# TODO: Replace <FILL IN> with appropriate code\n",
    "sampleOHEDictManual = {}\n",
    "sampleOHEDictManual[(0,'bear')] = 0 #<FILL IN>\n",
    "sampleOHEDictManual[(0,'cat')] = 1 # <FILL IN>\n",
    "sampleOHEDictManual[(0,'mouse')] = 2 # <FILL IN>\n",
    "sampleOHEDictManual[(1,'black')] = 3\n",
    "sampleOHEDictManual[(1,'tabby')] = 4\n",
    "sampleOHEDictManual[(2,'mouse')] = 5\n",
    "sampleOHEDictManual[(2,'salmon')] = 6"
   ]
  },
  {
   "cell_type": "code",
   "execution_count": 4,
   "metadata": {
    "collapsed": false
   },
   "outputs": [
    {
     "name": "stdout",
     "output_type": "stream",
     "text": [
      "1 test passed.\n",
      "1 test passed.\n",
      "1 test passed.\n",
      "1 test passed.\n",
      "1 test passed.\n",
      "1 test passed.\n",
      "1 test passed.\n",
      "1 test passed.\n"
     ]
    }
   ],
   "source": [
    "# TEST One-hot-encoding (1a)\n",
    "from test_helper import Test\n",
    "\n",
    "Test.assertEqualsHashed(sampleOHEDictManual[(0,'bear')],\n",
    "                        'b6589fc6ab0dc82cf12099d1c2d40ab994e8410c',\n",
    "                        \"incorrect value for sampleOHEDictManual[(0,'bear')]\")\n",
    "Test.assertEqualsHashed(sampleOHEDictManual[(0,'cat')],\n",
    "                        '356a192b7913b04c54574d18c28d46e6395428ab',\n",
    "                        \"incorrect value for sampleOHEDictManual[(0,'cat')]\")\n",
    "Test.assertEqualsHashed(sampleOHEDictManual[(0,'mouse')],\n",
    "                        'da4b9237bacccdf19c0760cab7aec4a8359010b0',\n",
    "                        \"incorrect value for sampleOHEDictManual[(0,'mouse')]\")\n",
    "Test.assertEqualsHashed(sampleOHEDictManual[(1,'black')],\n",
    "                        '77de68daecd823babbb58edb1c8e14d7106e83bb',\n",
    "                        \"incorrect value for sampleOHEDictManual[(1,'black')]\")\n",
    "Test.assertEqualsHashed(sampleOHEDictManual[(1,'tabby')],\n",
    "                        '1b6453892473a467d07372d45eb05abc2031647a',\n",
    "                        \"incorrect value for sampleOHEDictManual[(1,'tabby')]\")\n",
    "Test.assertEqualsHashed(sampleOHEDictManual[(2,'mouse')],\n",
    "                        'ac3478d69a3c81fa62e60f5c3696165a4e5e6ac4',\n",
    "                        \"incorrect value for sampleOHEDictManual[(2,'mouse')]\")\n",
    "Test.assertEqualsHashed(sampleOHEDictManual[(2,'salmon')],\n",
    "                        'c1dfd96eea8cc2b62785275bca38ac261256e278',\n",
    "                        \"incorrect value for sampleOHEDictManual[(2,'salmon')]\")\n",
    "Test.assertEquals(len(sampleOHEDictManual.keys()), 7,\n",
    "                  'incorrect number of keys in sampleOHEDictManual')"
   ]
  },
  {
   "cell_type": "markdown",
   "metadata": {},
   "source": [
    "#### ** (1b) Sparse vectors **\n",
    "#### Data points can typically be represented with a small number of non-zero OHE features relative to the total number of features that occur in the dataset.  By leveraging this sparsity and using sparse vector representations of OHE data, we can reduce storage and computational burdens.  Below are a few sample vectors represented as dense numpy arrays.  Use [SparseVector](https://spark.apache.org/docs/latest/api/python/pyspark.mllib.html#pyspark.mllib.linalg.SparseVector) to represent them in a sparse fashion, and verify that both the sparse and dense representations yield the same results when computing [dot products](http://en.wikipedia.org/wiki/Dot_product) (we will later use MLlib to train classifiers via gradient descent, and MLlib will need to compute dot products between SparseVectors and dense parameter vectors).\n",
    "#### Use `SparseVector(size, *args)` to create a new sparse vector where size is the length of the vector and args is either a dictionary, a list of (index, value) pairs, or two separate arrays of indices and values (sorted by index).  You'll need to create a sparse vector representation of each dense vector `aDense` and `bDense`."
   ]
  },
  {
   "cell_type": "code",
   "execution_count": 5,
   "metadata": {
    "collapsed": false
   },
   "outputs": [],
   "source": [
    "import numpy as np\n",
    "from pyspark.mllib.linalg import SparseVector"
   ]
  },
  {
   "cell_type": "code",
   "execution_count": 6,
   "metadata": {
    "collapsed": false
   },
   "outputs": [
    {
     "name": "stdout",
     "output_type": "stream",
     "text": [
      "7.3\n",
      "7.3\n",
      "-0.5\n",
      "-0.5\n"
     ]
    }
   ],
   "source": [
    "# TODO: Replace <FILL IN> with appropriate code\n",
    "aDense = np.array([0., 3., 0., 4.])\n",
    "#aSparse = <FILL IN>\n",
    "aSparse = SparseVector(4,[1,3],[3.,4.])\n",
    "\n",
    "bDense = np.array([0., 0., 0., 1.])\n",
    "#bSparse = <FILL IN>\n",
    "bSparse = SparseVector(4,[3],[1.])\n",
    "\n",
    "w = np.array([0.4, 3.1, -1.4, -.5])\n",
    "print aDense.dot(w)\n",
    "print aSparse.dot(w)\n",
    "print bDense.dot(w)\n",
    "print bSparse.dot(w)"
   ]
  },
  {
   "cell_type": "code",
   "execution_count": 7,
   "metadata": {
    "collapsed": false
   },
   "outputs": [
    {
     "name": "stdout",
     "output_type": "stream",
     "text": [
      "1 test passed.\n",
      "1 test passed.\n",
      "1 test passed.\n",
      "1 test passed.\n"
     ]
    }
   ],
   "source": [
    "# TEST Sparse Vectors (1b)\n",
    "Test.assertTrue(isinstance(aSparse, SparseVector), 'aSparse needs to be an instance of SparseVector')\n",
    "Test.assertTrue(isinstance(bSparse, SparseVector), 'aSparse needs to be an instance of SparseVector')\n",
    "Test.assertTrue(aDense.dot(w) == aSparse.dot(w),\n",
    "                'dot product of aDense and w should equal dot product of aSparse and w')\n",
    "Test.assertTrue(bDense.dot(w) == bSparse.dot(w),\n",
    "                'dot product of bDense and w should equal dot product of bSparse and w')"
   ]
  },
  {
   "cell_type": "markdown",
   "metadata": {},
   "source": [
    "#### **(1c) OHE features as sparse vectors **\n",
    "#### Now let's see how we can represent the OHE features for points in our sample dataset.  Using the mapping defined by the OHE dictionary from Part (1a), manually define OHE features for the three sample data points using SparseVector format.  Any feature that occurs in a point should have the value 1.0.  For example, the `DenseVector` for a point with features 2 and 4 would be `[0.0, 0.0, 1.0, 0.0, 1.0, 0.0, 0.0]`."
   ]
  },
  {
   "cell_type": "code",
   "execution_count": 8,
   "metadata": {
    "collapsed": false
   },
   "outputs": [],
   "source": [
    "# Reminder of the sample features\n",
    "# sampleOne = [(0, 'mouse'), (1, 'black')]\n",
    "# sampleTwo = [(0, 'cat'), (1, 'tabby'), (2, 'mouse')]\n",
    "# sampleThree =  [(0, 'bear'), (1, 'black'), (2, 'salmon')]"
   ]
  },
  {
   "cell_type": "code",
   "execution_count": 8,
   "metadata": {
    "collapsed": false
   },
   "outputs": [],
   "source": [
    "# TODO: Replace <FILL IN> with appropriate code\n",
    "#sampleOneOHEFeatManual = <FILL IN>\n",
    "sampleOneOHEFeatManual = SparseVector(7,[2,3],[1.,1.]) # [0.,0.,1.,1.,0.,0.,0.]\n",
    "sampleTwoOHEFeatManual = SparseVector(7,[1,4,5],[1.,1.,1.])  # [0.,1.,0.,0.,1.,1.,0.]\n",
    "sampleThreeOHEFeatManual = SparseVector(7,[0,3,6],[1.,1.,1.]) # [1.,0.,0.,1.,0.,0.,1.]\n"
   ]
  },
  {
   "cell_type": "code",
   "execution_count": 9,
   "metadata": {
    "collapsed": false
   },
   "outputs": [
    {
     "name": "stdout",
     "output_type": "stream",
     "text": [
      "1 test passed.\n",
      "1 test passed.\n",
      "1 test passed.\n",
      "1 test passed.\n",
      "1 test passed.\n",
      "1 test passed.\n"
     ]
    }
   ],
   "source": [
    "# TEST OHE Features as sparse vectors (1c)\n",
    "Test.assertTrue(isinstance(sampleOneOHEFeatManual, SparseVector),\n",
    "                'sampleOneOHEFeatManual needs to be a SparseVector')\n",
    "Test.assertTrue(isinstance(sampleTwoOHEFeatManual, SparseVector),\n",
    "                'sampleTwoOHEFeatManual needs to be a SparseVector')\n",
    "Test.assertTrue(isinstance(sampleThreeOHEFeatManual, SparseVector),\n",
    "                'sampleThreeOHEFeatManual needs to be a SparseVector')\n",
    "Test.assertEqualsHashed(sampleOneOHEFeatManual,\n",
    "                        'ecc00223d141b7bd0913d52377cee2cf5783abd6',\n",
    "                        'incorrect value for sampleOneOHEFeatManual')\n",
    "Test.assertEqualsHashed(sampleTwoOHEFeatManual,\n",
    "                        '26b023f4109e3b8ab32241938e2e9b9e9d62720a',\n",
    "                        'incorrect value for sampleTwoOHEFeatManual')\n",
    "Test.assertEqualsHashed(sampleThreeOHEFeatManual,\n",
    "                        'c04134fd603ae115395b29dcabe9d0c66fbdc8a7',\n",
    "                        'incorrect value for sampleThreeOHEFeatManual')"
   ]
  },
  {
   "cell_type": "markdown",
   "metadata": {},
   "source": [
    "#### **(1d) Define a OHE function **\n",
    "#### Next we will use the OHE dictionary from Part (1a) to programatically generate OHE features from the original categorical data.  First write a function called `oneHotEncoding` that creates OHE feature vectors in `SparseVector` format.  Then use this function to create OHE features for the first sample data point and verify that the result matches the result from Part (1c)."
   ]
  },
  {
   "cell_type": "code",
   "execution_count": 10,
   "metadata": {
    "collapsed": false
   },
   "outputs": [
    {
     "name": "stdout",
     "output_type": "stream",
     "text": [
      "(7,[2,3],[1.0,1.0])\n"
     ]
    }
   ],
   "source": [
    "# TODO: Replace <FILL IN> with appropriate code\n",
    "def oneHotEncoding(rawFeats, OHEDict, numOHEFeats):\n",
    "    \"\"\"Produce a one-hot-encoding from a list of features and an OHE dictionary.\n",
    "\n",
    "    Note:\n",
    "        You should ensure that the indices used to create a SparseVector are sorted.\n",
    "\n",
    "    Args:\n",
    "        rawFeats (list of (int, str)): The features corresponding to a single observation.  Each\n",
    "            feature consists of a tuple of featureID and the feature's value. (e.g. sampleOne)\n",
    "        OHEDict (dict): A mapping of (featureID, value) to unique integer.\n",
    "        numOHEFeats (int): The total number of unique OHE features (combinations of featureID and\n",
    "            value).\n",
    "\n",
    "    Returns:\n",
    "        SparseVector: A SparseVector of length numOHEFeats with indicies equal to the unique\n",
    "            identifiers for the (featureID, value) combinations that occur in the observation and\n",
    "            with values equal to 1.0.\n",
    "    \"\"\"\n",
    "    #<FILL IN>\n",
    "    \n",
    "    ##\n",
    "    ## THIS IS THE FIRST VERSION\n",
    "    ## It works but is very inefficient...\n",
    "    ##\n",
    "    #lenRaw = len(rawFeats)\n",
    "    #a = [0]*lenRaw\n",
    "    #b = [0]*lenRaw\n",
    "    #i = -1\n",
    "    #for x in rawFeats:\n",
    "    #    valAux = int(OHEDict[x])\n",
    "    #    i += 1\n",
    "    #    a[i] = int(valAux)\n",
    "    #    b[i] = 1.\n",
    "    #a = np.sort(a)\n",
    "    \n",
    "    ## Better version !!!\n",
    "    \n",
    "    a = [int(OHEDict[x]) for x in rawFeats]\n",
    "    a = np.sort(a)\n",
    "    b = [1. for x in rawFeats]\n",
    "    \n",
    "    return SparseVector(numOHEFeats,a,b)\n",
    "\n",
    "# Calculate the number of features in sampleOHEDictManual\n",
    "numSampleOHEFeats = len(sampleOHEDictManual)\n",
    "\n",
    "# Run oneHotEnoding on sampleOne\n",
    "sampleOneOHEFeat = oneHotEncoding(sampleOne, sampleOHEDictManual, len(sampleOHEDictManual))\n",
    "\n",
    "print sampleOneOHEFeat"
   ]
  },
  {
   "cell_type": "code",
   "execution_count": 11,
   "metadata": {
    "collapsed": false
   },
   "outputs": [
    {
     "name": "stdout",
     "output_type": "stream",
     "text": [
      "1 test passed.\n",
      "1 test passed.\n",
      "1 test passed.\n"
     ]
    }
   ],
   "source": [
    "# TEST Define an OHE Function (1d)\n",
    "Test.assertTrue(sampleOneOHEFeat == sampleOneOHEFeatManual,\n",
    "                'sampleOneOHEFeat should equal sampleOneOHEFeatManual')\n",
    "Test.assertEquals(sampleOneOHEFeat, SparseVector(7, [2,3], [1.0,1.0]),\n",
    "                  'incorrect value for sampleOneOHEFeat')\n",
    "Test.assertEquals(oneHotEncoding([(1, 'black'), (0, 'mouse')], sampleOHEDictManual,\n",
    "                                 numSampleOHEFeats), SparseVector(7, [2,3], [1.0,1.0]),\n",
    "                  'incorrect definition for oneHotEncoding')"
   ]
  },
  {
   "cell_type": "markdown",
   "metadata": {},
   "source": [
    "#### **(1e) Apply OHE to a dataset **\n",
    "#### Finally, use the function from Part (1d) to create OHE features for all 3 data points in the sample dataset."
   ]
  },
  {
   "cell_type": "code",
   "execution_count": 12,
   "metadata": {
    "collapsed": false
   },
   "outputs": [
    {
     "name": "stdout",
     "output_type": "stream",
     "text": [
      "[SparseVector(7, {2: 1.0, 3: 1.0}), SparseVector(7, {1: 1.0, 4: 1.0, 5: 1.0}), SparseVector(7, {0: 1.0, 3: 1.0, 6: 1.0})]\n"
     ]
    }
   ],
   "source": [
    "# TODO: Replace <FILL IN> with appropriate code\n",
    "sampleOHEData = sampleDataRDD.map(lambda x: oneHotEncoding(x, sampleOHEDictManual, len(sampleOHEDictManual)))\n",
    "print sampleOHEData.collect()"
   ]
  },
  {
   "cell_type": "code",
   "execution_count": 13,
   "metadata": {
    "collapsed": false
   },
   "outputs": [
    {
     "name": "stdout",
     "output_type": "stream",
     "text": [
      "1 test passed.\n",
      "1 test passed.\n",
      "1 test passed.\n",
      "1 test passed.\n"
     ]
    }
   ],
   "source": [
    "# TEST Apply OHE to a dataset (1e)\n",
    "sampleOHEDataValues = sampleOHEData.collect()\n",
    "Test.assertTrue(len(sampleOHEDataValues) == 3, 'sampleOHEData should have three elements')\n",
    "Test.assertEquals(sampleOHEDataValues[0], SparseVector(7, {2: 1.0, 3: 1.0}),\n",
    "                  'incorrect OHE for first sample')\n",
    "Test.assertEquals(sampleOHEDataValues[1], SparseVector(7, {1: 1.0, 4: 1.0, 5: 1.0}),\n",
    "                  'incorrect OHE for second sample')\n",
    "Test.assertEquals(sampleOHEDataValues[2], SparseVector(7, {0: 1.0, 3: 1.0, 6: 1.0}),\n",
    "                  'incorrect OHE for third sample')"
   ]
  },
  {
   "cell_type": "markdown",
   "metadata": {},
   "source": [
    "### ** Part 2: Construct an OHE dictionary **"
   ]
  },
  {
   "cell_type": "markdown",
   "metadata": {},
   "source": [
    "#### **(2a) Pair RDD of `(featureID, category)` **\n",
    "#### To start, create an RDD of distinct `(featureID, category)` tuples. In our sample dataset, the 7 items in the resulting RDD are `(0, 'bear')`, `(0, 'cat')`, `(0, 'mouse')`, `(1, 'black')`, `(1, 'tabby')`, `(2, 'mouse')`, `(2, 'salmon')`. Notably `'black'` appears twice in the dataset but only contributes one item to the RDD: `(1, 'black')`, while `'mouse'` also appears twice and contributes two items: `(0, 'mouse')` and `(2, 'mouse')`.  Use [flatMap](https://spark.apache.org/docs/latest/api/python/pyspark.html#pyspark.RDD.flatMap) and [distinct](https://spark.apache.org/docs/latest/api/python/pyspark.html#pyspark.RDD.distinct)."
   ]
  },
  {
   "cell_type": "code",
   "execution_count": 14,
   "metadata": {
    "collapsed": false
   },
   "outputs": [
    {
     "name": "stdout",
     "output_type": "stream",
     "text": [
      "[(2, 'mouse'), (0, 'cat'), (0, 'bear'), (2, 'salmon'), (1, 'tabby'), (1, 'black'), (0, 'mouse')]\n"
     ]
    }
   ],
   "source": [
    "# TODO: Replace <FILL IN> with appropriate code\n",
    "sampleDistinctFeats = (sampleDataRDD\n",
    "                       .flatMap(lambda x: x).distinct()) #.map(lambda x: (x[0],x[1])))\n",
    "print sampleDistinctFeats.collect()"
   ]
  },
  {
   "cell_type": "code",
   "execution_count": 15,
   "metadata": {
    "collapsed": false
   },
   "outputs": [
    {
     "name": "stdout",
     "output_type": "stream",
     "text": [
      "1 test passed.\n"
     ]
    }
   ],
   "source": [
    "# TEST Pair RDD of (featureID, category) (2a)\n",
    "Test.assertEquals(sorted(sampleDistinctFeats.collect()),\n",
    "                  [(0, 'bear'), (0, 'cat'), (0, 'mouse'), (1, 'black'),\n",
    "                   (1, 'tabby'), (2, 'mouse'), (2, 'salmon')],\n",
    "                  'incorrect value for sampleDistinctFeats')"
   ]
  },
  {
   "cell_type": "markdown",
   "metadata": {},
   "source": [
    "#### ** (2b) OHE Dictionary from distinct features **\n",
    "#### Next, create an `RDD` of key-value tuples, where each `(featureID, category)` tuple in `sampleDistinctFeats` is a key and the values are distinct integers ranging from 0 to (number of keys - 1).  Then convert this `RDD` into a dictionary, which can be done using the `collectAsMap` action.  Note that there is no unique mapping from keys to values, as all we require is that each `(featureID, category)` key be mapped to a unique integer between 0 and the number of keys.  In this exercise, any valid mapping is acceptable.  Use [zipWithIndex](https://spark.apache.org/docs/latest/api/python/pyspark.html#pyspark.RDD.zipWithIndex) followed by [collectAsMap](https://spark.apache.org/docs/latest/api/python/pyspark.html#pyspark.RDD.collectAsMap).\n",
    "#### In our sample dataset, one valid list of key-value tuples is: `[((0, 'bear'), 0), ((2, 'salmon'), 1), ((1, 'tabby'), 2), ((2, 'mouse'), 3), ((0, 'mouse'), 4), ((0, 'cat'), 5), ((1, 'black'), 6)]`. The dictionary defined in Part (1a) illustrates another valid mapping between keys and integers."
   ]
  },
  {
   "cell_type": "code",
   "execution_count": 16,
   "metadata": {
    "collapsed": false
   },
   "outputs": [
    {
     "name": "stdout",
     "output_type": "stream",
     "text": [
      "{(2, 'mouse'): 0, (0, 'cat'): 1, (0, 'bear'): 2, (2, 'salmon'): 3, (1, 'tabby'): 4, (1, 'black'): 5, (0, 'mouse'): 6}\n"
     ]
    }
   ],
   "source": [
    "# TODO: Replace <FILL IN> with appropriate code\n",
    "sampleOHEDict = (sampleDistinctFeats\n",
    "                           .zipWithIndex().collectAsMap())\n",
    "print sampleOHEDict"
   ]
  },
  {
   "cell_type": "code",
   "execution_count": 17,
   "metadata": {
    "collapsed": false
   },
   "outputs": [
    {
     "name": "stdout",
     "output_type": "stream",
     "text": [
      "1 test passed.\n",
      "1 test passed.\n"
     ]
    }
   ],
   "source": [
    "# TEST OHE Dictionary from distinct features (2b)\n",
    "Test.assertEquals(sorted(sampleOHEDict.keys()),\n",
    "                  [(0, 'bear'), (0, 'cat'), (0, 'mouse'), (1, 'black'),\n",
    "                   (1, 'tabby'), (2, 'mouse'), (2, 'salmon')],\n",
    "                  'sampleOHEDict has unexpected keys')\n",
    "Test.assertEquals(sorted(sampleOHEDict.values()), range(7), 'sampleOHEDict has unexpected values')"
   ]
  },
  {
   "cell_type": "markdown",
   "metadata": {},
   "source": [
    "#### **(2c) Automated creation of an OHE dictionary **\n",
    "#### Now use the code from Parts (2a) and (2b) to write a function that takes an input dataset and outputs an OHE dictionary.  Then use this function to create an OHE dictionary for the sample dataset, and verify that it matches the dictionary from Part (2b)."
   ]
  },
  {
   "cell_type": "code",
   "execution_count": 18,
   "metadata": {
    "collapsed": false
   },
   "outputs": [
    {
     "name": "stdout",
     "output_type": "stream",
     "text": [
      "{(2, 'mouse'): 0, (0, 'cat'): 1, (0, 'bear'): 2, (2, 'salmon'): 3, (1, 'tabby'): 4, (1, 'black'): 5, (0, 'mouse'): 6}\n"
     ]
    }
   ],
   "source": [
    "# TODO: Replace <FILL IN> with appropriate code\n",
    "def createOneHotDict(inputData):\n",
    "    \"\"\"Creates a one-hot-encoder dictionary based on the input data.\n",
    "\n",
    "    Args:\n",
    "        inputData (RDD of lists of (int, str)): An RDD of observations where each observation is\n",
    "            made up of a list of (featureID, value) tuples.\n",
    "\n",
    "    Returns:\n",
    "        dict: A dictionary where the keys are (featureID, value) tuples and map to values that are\n",
    "            unique integers.\n",
    "    \"\"\"\n",
    "    return inputData.flatMap(lambda x: x).distinct().zipWithIndex().collectAsMap()\n",
    "\n",
    "sampleOHEDictAuto = createOneHotDict(sampleDataRDD)\n",
    "print sampleOHEDictAuto"
   ]
  },
  {
   "cell_type": "code",
   "execution_count": 19,
   "metadata": {
    "collapsed": false
   },
   "outputs": [
    {
     "name": "stdout",
     "output_type": "stream",
     "text": [
      "1 test passed.\n",
      "1 test passed.\n"
     ]
    }
   ],
   "source": [
    "# TEST Automated creation of an OHE dictionary (2c)\n",
    "Test.assertEquals(sorted(sampleOHEDictAuto.keys()),\n",
    "                  [(0, 'bear'), (0, 'cat'), (0, 'mouse'), (1, 'black'),\n",
    "                   (1, 'tabby'), (2, 'mouse'), (2, 'salmon')],\n",
    "                  'sampleOHEDictAuto has unexpected keys')\n",
    "Test.assertEquals(sorted(sampleOHEDictAuto.values()), range(7),\n",
    "                  'sampleOHEDictAuto has unexpected values')"
   ]
  },
  {
   "cell_type": "markdown",
   "metadata": {},
   "source": [
    "### **Part 3: Parse CTR data and generate OHE features**"
   ]
  },
  {
   "cell_type": "markdown",
   "metadata": {},
   "source": [
    "#### Before we can proceed, you'll first need to obtain the data from Criteo.  If you have already completed this step in the setup lab, just run the cells below and the data will be loaded into the `rawData` variable.\n",
    "#### Below is Criteo's data sharing agreement.  After you accept the agreement, you can obtain the download URL by right-clicking on the \"Download Sample\" button and clicking \"Copy link address\" or \"Copy Link Location\", depending on your browser.  Paste the URL into the `# TODO` cell below.  The file is 8.4 MB compressed.  The script below will download the file to the virtual machine (VM) and then extract the data.\n",
    "#### If running the cell below does not render a webpage, open the [Criteo agreement](http://labs.criteo.com/downloads/2014-kaggle-display-advertising-challenge-dataset/) in a separate browser tab.  After you accept the agreement, you can obtain the download URL by right-clicking on the \"Download Sample\" button and clicking \"Copy link address\" or \"Copy Link Location\", depending on your browser.  Paste the URL into the `# TODO` cell below.\n",
    "#### Note that the download could take a few minutes, depending upon your connection speed."
   ]
  },
  {
   "cell_type": "code",
   "execution_count": 20,
   "metadata": {
    "collapsed": false
   },
   "outputs": [
    {
     "data": {
      "text/html": [
       "\n",
       "        <iframe\n",
       "            width=\"600\"\n",
       "            height=\"350\"\n",
       "            src=\"http://labs.criteo.com/downloads/2014-kaggle-display-advertising-challenge-dataset/\"\n",
       "            frameborder=\"0\"\n",
       "            allowfullscreen\n",
       "        ></iframe>\n",
       "        "
      ],
      "text/plain": [
       "<IPython.lib.display.IFrame at 0xb0ec0c4c>"
      ]
     },
     "execution_count": 20,
     "metadata": {},
     "output_type": "execute_result"
    }
   ],
   "source": [
    "# Run this code to view Criteo's agreement\n",
    "from IPython.lib.display import IFrame\n",
    "\n",
    "IFrame(\"http://labs.criteo.com/downloads/2014-kaggle-display-advertising-challenge-dataset/\",\n",
    "       600, 350)"
   ]
  },
  {
   "cell_type": "code",
   "execution_count": 21,
   "metadata": {
    "collapsed": false
   },
   "outputs": [
    {
     "name": "stdout",
     "output_type": "stream",
     "text": [
      "File is already available. Nothing to do.\n"
     ]
    }
   ],
   "source": [
    "# TODO: Replace <FILL IN> with appropriate code\n",
    "# Just replace <FILL IN> with the url for dac_sample.tar.gz\n",
    "import glob\n",
    "import os.path\n",
    "import tarfile\n",
    "import urllib\n",
    "import urlparse\n",
    "\n",
    "# Paste url, url should end with: dac_sample.tar.gz\n",
    "url = 'http://labs.criteo.com/wp-content/uploads/2015/04/dac_sample.tar.gz'\n",
    "\n",
    "url = url.strip()\n",
    "baseDir = os.path.join('data')\n",
    "inputPath = os.path.join('cs190', 'dac_sample.txt')\n",
    "fileName = os.path.join(baseDir, inputPath)\n",
    "inputDir = os.path.split(fileName)[0]\n",
    "\n",
    "def extractTar(check = False):\n",
    "    # Find the zipped archive and extract the dataset\n",
    "    tars = glob.glob('dac_sample*.tar.gz*')\n",
    "    if check and len(tars) == 0:\n",
    "      return False\n",
    "\n",
    "    if len(tars) > 0:\n",
    "        try:\n",
    "            tarFile = tarfile.open(tars[0])\n",
    "        except tarfile.ReadError:\n",
    "            if not check:\n",
    "                print 'Unable to open tar.gz file.  Check your URL.'\n",
    "            return False\n",
    "\n",
    "        tarFile.extract('dac_sample.txt', path=inputDir)\n",
    "        print 'Successfully extracted: dac_sample.txt'\n",
    "        return True\n",
    "    else:\n",
    "        print 'You need to retry the download with the correct url.'\n",
    "        print ('Alternatively, you can upload the dac_sample.tar.gz file to your Jupyter root ' +\n",
    "              'directory')\n",
    "        return False\n",
    "\n",
    "\n",
    "if os.path.isfile(fileName):\n",
    "    print 'File is already available. Nothing to do.'\n",
    "elif extractTar(check = True):\n",
    "    print 'tar.gz file was already available.'\n",
    "elif not url.endswith('dac_sample.tar.gz'):\n",
    "    print 'Check your download url.  Are you downloading the Sample dataset?'\n",
    "else:\n",
    "    # Download the file and store it in the same directory as this notebook\n",
    "    try:\n",
    "        urllib.urlretrieve(url, os.path.basename(urlparse.urlsplit(url).path))\n",
    "    except IOError:\n",
    "        print 'Unable to download and store: {0}'.format(url)\n",
    "\n",
    "    extractTar()"
   ]
  },
  {
   "cell_type": "code",
   "execution_count": 22,
   "metadata": {
    "collapsed": false
   },
   "outputs": [
    {
     "name": "stdout",
     "output_type": "stream",
     "text": [
      "[u'0,1,1,5,0,1382,4,15,2,181,1,2,,2,68fd1e64,80e26c9b,fb936136,7b4723c4,25c83c98,7e0ccccf,de7995b8,1f89b562,a73ee510,a8cd5504,b2cb9c98,37c9c164,2824a5f6,1adce6ef,8ba8b39a,891b62e7,e5ba7672,f54016b9,21ddcdc9,b1252a9d,07b5194c,,3a171ecb,c5c50484,e8b83407,9727dd16']\n"
     ]
    }
   ],
   "source": [
    "import os.path\n",
    "baseDir = os.path.join('data')\n",
    "inputPath = os.path.join('cs190', 'dac_sample.txt')\n",
    "fileName = os.path.join(baseDir, inputPath)\n",
    "\n",
    "if os.path.isfile(fileName):\n",
    "    rawData = (sc\n",
    "               .textFile(fileName, 2)\n",
    "               .map(lambda x: x.replace('\\t', ',')))  # work with either ',' or '\\t' separated data\n",
    "    print rawData.take(1)"
   ]
  },
  {
   "cell_type": "markdown",
   "metadata": {},
   "source": [
    "#### **(3a) Loading and splitting the data **\n",
    "#### We are now ready to start working with the actual CTR data, and our first task involves splitting it into training, validation, and test sets.  Use the [randomSplit method](https://spark.apache.org/docs/latest/api/python/pyspark.html#pyspark.RDD.randomSplit) with the specified weights and seed to create RDDs storing each of these datasets, and then [cache](https://spark.apache.org/docs/latest/api/python/pyspark.html#pyspark.RDD.cache) each of these RDDs, as we will be accessing them multiple times in the remainder of this lab. Finally, compute the size of each dataset."
   ]
  },
  {
   "cell_type": "code",
   "execution_count": 23,
   "metadata": {
    "collapsed": false
   },
   "outputs": [
    {
     "name": "stdout",
     "output_type": "stream",
     "text": [
      "79911 10075 10014 100000\n",
      "[u'0,1,1,5,0,1382,4,15,2,181,1,2,,2,68fd1e64,80e26c9b,fb936136,7b4723c4,25c83c98,7e0ccccf,de7995b8,1f89b562,a73ee510,a8cd5504,b2cb9c98,37c9c164,2824a5f6,1adce6ef,8ba8b39a,891b62e7,e5ba7672,f54016b9,21ddcdc9,b1252a9d,07b5194c,,3a171ecb,c5c50484,e8b83407,9727dd16']\n"
     ]
    }
   ],
   "source": [
    "# TODO: Replace <FILL IN> with appropriate code\n",
    "weights = [.8, .1, .1]\n",
    "seed = 42\n",
    "# Use randomSplit with weights and seed\n",
    "rawTrainData, rawValidationData, rawTestData = rawData.randomSplit(weights,seed=seed)\n",
    "# Cache the data\n",
    "rawTrainData.cache()\n",
    "rawValidationData.cache()\n",
    "rawTestData.cache()\n",
    "\n",
    "\n",
    "nTrain = rawTrainData.count()\n",
    "nVal = rawValidationData.count()\n",
    "nTest = rawTestData.count()\n",
    "print nTrain, nVal, nTest, nTrain + nVal + nTest\n",
    "print rawData.take(1)"
   ]
  },
  {
   "cell_type": "code",
   "execution_count": 24,
   "metadata": {
    "collapsed": false
   },
   "outputs": [
    {
     "name": "stdout",
     "output_type": "stream",
     "text": [
      "1 test passed.\n",
      "1 test passed.\n",
      "1 test passed.\n",
      "1 test passed.\n"
     ]
    }
   ],
   "source": [
    "# TEST Loading and splitting the data (3a)\n",
    "Test.assertTrue(all([rawTrainData.is_cached, rawValidationData.is_cached, rawTestData.is_cached]),\n",
    "                'you must cache the split data')\n",
    "Test.assertEquals(nTrain, 79911, 'incorrect value for nTrain')\n",
    "Test.assertEquals(nVal, 10075, 'incorrect value for nVal')\n",
    "Test.assertEquals(nTest, 10014, 'incorrect value for nTest')"
   ]
  },
  {
   "cell_type": "markdown",
   "metadata": {},
   "source": [
    "#### ** (3b) Extract features **\n",
    "#### We will now parse the raw training data to create an RDD that we can subsequently use to create an OHE dictionary. Note from the `take()` command in Part (3a) that each raw data point is a string containing several fields separated by some delimiter.  For now, we will ignore the first field (which is the 0-1 label), and parse the remaining fields (or raw features).  To do this, complete the implemention of the `parsePoint` function."
   ]
  },
  {
   "cell_type": "code",
   "execution_count": 25,
   "metadata": {
    "collapsed": false
   },
   "outputs": [
    {
     "name": "stdout",
     "output_type": "stream",
     "text": [
      "855\n"
     ]
    }
   ],
   "source": [
    "# TODO: Replace <FILL IN> with appropriate code\n",
    "def parsePoint(point):\n",
    "    \"\"\"Converts a comma separated string into a list of (featureID, value) tuples.\n",
    "\n",
    "    Note:\n",
    "        featureIDs should start at 0 and increase to the number of features - 1.\n",
    "\n",
    "    Args:\n",
    "        point (str): A comma separated string where the first value is the label and the rest\n",
    "            are features.\n",
    "\n",
    "    Returns:\n",
    "        list: A list of (featureID, value) tuples.\n",
    "    \"\"\"\n",
    "    #aux = point[0].split(',')\n",
    "    #return list(enumerate(aux[1:]))\n",
    "    \n",
    "    #aux = point.split(',')\n",
    "    aux = point.split(',')\n",
    "    return list(enumerate(aux[1:]))\n",
    "    \n",
    "\n",
    "parsedTrainFeat = rawTrainData.map(parsePoint)\n",
    "\n",
    "numCategories = (parsedTrainFeat\n",
    "                 .flatMap(lambda x: x)\n",
    "                 .distinct()\n",
    "                 .map(lambda x: (x[0], 1))\n",
    "                 .reduceByKey(lambda x, y: x + y)\n",
    "                 .sortByKey()\n",
    "                 .collect())\n",
    "\n",
    "\n",
    "print numCategories[2][1]\n"
   ]
  },
  {
   "cell_type": "code",
   "execution_count": 26,
   "metadata": {
    "collapsed": false
   },
   "outputs": [
    {
     "name": "stdout",
     "output_type": "stream",
     "text": [
      "1 test passed.\n",
      "1 test passed.\n"
     ]
    }
   ],
   "source": [
    "# TEST Extract features (3b)\n",
    "Test.assertEquals(numCategories[2][1], 855, 'incorrect implementation of parsePoint')\n",
    "Test.assertEquals(numCategories[32][1], 4, 'incorrect implementation of parsePoint')"
   ]
  },
  {
   "cell_type": "markdown",
   "metadata": {},
   "source": [
    "#### **(3c) Create an OHE dictionary from the dataset **\n",
    "#### Note that parsePoint returns a data point as a list of `(featureID, category)` tuples, which is the same format as the sample dataset studied in Parts 1 and 2 of this lab.  Using this observation, create an OHE dictionary using the function implemented in Part (2c). Note that we will assume for simplicity that all features in our CTR dataset are categorical."
   ]
  },
  {
   "cell_type": "code",
   "execution_count": 27,
   "metadata": {
    "collapsed": false
   },
   "outputs": [
    {
     "name": "stdout",
     "output_type": "stream",
     "text": [
      "233286\n",
      "36177\n"
     ]
    }
   ],
   "source": [
    "# TODO: Replace <FILL IN> with appropriate code\n",
    "#ctrOHEDict = <FILL IN>\n",
    "ctrOHEDict = createOneHotDict(parsedTrainFeat)\n",
    "\n",
    "numCtrOHEFeats = len(ctrOHEDict.keys())\n",
    "print numCtrOHEFeats\n",
    "print ctrOHEDict[(0, '')]"
   ]
  },
  {
   "cell_type": "code",
   "execution_count": 28,
   "metadata": {
    "collapsed": false
   },
   "outputs": [
    {
     "name": "stdout",
     "output_type": "stream",
     "text": [
      "1 test passed.\n",
      "1 test passed.\n"
     ]
    }
   ],
   "source": [
    "# TEST Create an OHE dictionary from the dataset (3c)\n",
    "Test.assertEquals(numCtrOHEFeats, 233286, 'incorrect number of features in ctrOHEDict')\n",
    "Test.assertTrue((0, '') in ctrOHEDict, 'incorrect features in ctrOHEDict')"
   ]
  },
  {
   "cell_type": "markdown",
   "metadata": {},
   "source": [
    "#### ** (3d) Apply OHE to the dataset **\n",
    "#### Now let's use this OHE dictionary by starting with the raw training data and creating an RDD of [LabeledPoint](http://spark.apache.org/docs/1.3.1/api/python/pyspark.mllib.html#pyspark.mllib.regression.LabeledPoint) objects using OHE features.  To do this, complete the implementation of the `parseOHEPoint` function. Hint: `parseOHEPoint` is an extension of the `parsePoint` function from Part (3b) and it uses the `oneHotEncoding` function from Part (1d)."
   ]
  },
  {
   "cell_type": "code",
   "execution_count": 32,
   "metadata": {
    "collapsed": false
   },
   "outputs": [],
   "source": [
    "from pyspark.mllib.regression import LabeledPoint"
   ]
  },
  {
   "cell_type": "code",
   "execution_count": 33,
   "metadata": {
    "collapsed": false
   },
   "outputs": [
    {
     "name": "stdout",
     "output_type": "stream",
     "text": [
      "[LabeledPoint(0.0, (233286,[382,3101,6842,8311,8911,11887,12893,16211,17631,18646,23513,29366,33157,39536,55820,61797,81485,82753,93671,96986,109720,110662,112139,120263,128571,132400,132805,140595,160666,185457,190322,191105,195902,202638,204242,206037,222753,225966,229941],[1.0,1.0,1.0,1.0,1.0,1.0,1.0,1.0,1.0,1.0,1.0,1.0,1.0,1.0,1.0,1.0,1.0,1.0,1.0,1.0,1.0,1.0,1.0,1.0,1.0,1.0,1.0,1.0,1.0,1.0,1.0,1.0,1.0,1.0,1.0,1.0,1.0,1.0,1.0]))]\n"
     ]
    }
   ],
   "source": [
    "# TODO: Replace <FILL IN> with appropriate code\n",
    "def parseOHEPoint(point, OHEDict, numOHEFeats):\n",
    "    \"\"\"Obtain the label and feature vector for this raw observation.\n",
    "\n",
    "    Note:\n",
    "        You must use the function `oneHotEncoding` in this implementation or later portions\n",
    "        of this lab may not function as expected.\n",
    "\n",
    "    Args:\n",
    "        point (str): A comma separated string where the first value is the label and the rest\n",
    "            are features.\n",
    "        OHEDict (dict of (int, str) to int): Mapping of (featureID, value) to unique integer.\n",
    "        numOHEFeats (int): The number of unique features in the training dataset.\n",
    "\n",
    "    Returns:\n",
    "        LabeledPoint: Contains the label for the observation and the one-hot-encoding of the\n",
    "            raw features based on the provided OHE dictionary.\n",
    "    \"\"\"\n",
    "\n",
    "    #<FILL IN>\n",
    "    \n",
    "    # First we get the label\n",
    "    Xlabel = point[0]\n",
    "    #Xfeatures = point.split(',')\n",
    "    \n",
    "    # We now a parsed point\n",
    "    parsed_point = parsePoint(point)\n",
    "    \n",
    "    \n",
    "    # This line returns a SparseVector\n",
    "    # For instance... # (7,[2,3],[1.0,1.0])\n",
    "    aux = oneHotEncoding(parsed_point, OHEDict, numOHEFeats)\n",
    "\n",
    "    LabPoint = LabeledPoint(Xlabel,aux)\n",
    "    \n",
    "    \n",
    "\n",
    "    return LabPoint\n",
    "\n",
    "OHETrainData = rawTrainData.map(lambda point: parseOHEPoint(point, ctrOHEDict, numCtrOHEFeats))\n",
    "OHETrainData.cache()\n",
    "print OHETrainData.take(1)\n",
    "\n",
    "# Check that oneHotEncoding function was used in parseOHEPoint\n",
    "backupOneHot = oneHotEncoding\n",
    "oneHotEncoding = None\n",
    "withOneHot = False\n",
    "try: parseOHEPoint(rawTrainData.take(1)[0], ctrOHEDict, numCtrOHEFeats)\n",
    "except TypeError: withOneHot = True\n",
    "oneHotEncoding = backupOneHot"
   ]
  },
  {
   "cell_type": "code",
   "execution_count": 35,
   "metadata": {
    "collapsed": false
   },
   "outputs": [
    {
     "name": "stdout",
     "output_type": "stream",
     "text": [
      "1 test passed.\n",
      "1 test passed.\n"
     ]
    }
   ],
   "source": [
    "# TEST Apply OHE to the dataset (3d)\n",
    "numNZ = sum(parsedTrainFeat.map(lambda x: len(x)).take(5))\n",
    "numNZAlt = sum(OHETrainData.map(lambda lp: len(lp.features.indices)).take(5))\n",
    "Test.assertEquals(numNZ, numNZAlt, 'incorrect implementation of parseOHEPoint')\n",
    "Test.assertTrue(withOneHot, 'oneHotEncoding not present in parseOHEPoint')"
   ]
  },
  {
   "cell_type": "code",
   "execution_count": 36,
   "metadata": {
    "collapsed": false
   },
   "outputs": [
    {
     "name": "stdout",
     "output_type": "stream",
     "text": [
      "[(256, 748), (1024, 255), (2, 24076), (4, 16639), (32, 4755), (8, 11440), (64, 2627), (128, 1476), (16, 7752), (512, 414), (1, 162813)]\n"
     ]
    }
   ],
   "source": [
    "def bucketFeatByCount(featCount):\n",
    "    \"\"\"Bucket the counts by powers of two.\"\"\"\n",
    "    for i in range(11):\n",
    "        size = 2 ** i\n",
    "        if featCount <= size:\n",
    "            return size\n",
    "    return -1\n",
    "\n",
    "featCounts = (OHETrainData\n",
    "              .flatMap(lambda lp: lp.features.indices)\n",
    "              .map(lambda x: (x, 1))\n",
    "              .reduceByKey(lambda x, y: x + y))\n",
    "featCountsBuckets = (featCounts\n",
    "                     .map(lambda x: (bucketFeatByCount(x[1]), 1))\n",
    "                     .filter(lambda (k, v): k != -1)\n",
    "                     .reduceByKey(lambda x, y: x + y)\n",
    "                     .collect())\n",
    "print featCountsBuckets"
   ]
  },
  {
   "cell_type": "code",
   "execution_count": 37,
   "metadata": {
    "collapsed": false
   },
   "outputs": [
    {
     "data": {
      "image/png": "iVBORw0KGgoAAAANSUhEUgAAA3MAAAIkCAYAAAC0tXKBAAAABHNCSVQICAgIfAhkiAAAAAlwSFlz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\nAElFTkSuQmCC\n",
      "text/plain": [
       "<matplotlib.figure.Figure at 0xaf5c864c>"
      ]
     },
     "metadata": {},
     "output_type": "display_data"
    }
   ],
   "source": [
    "import matplotlib.pyplot as plt\n",
    "\n",
    "x, y = zip(*featCountsBuckets)\n",
    "x, y = np.log(x), np.log(y)\n",
    "\n",
    "def preparePlot(xticks, yticks, figsize=(10.5, 6), hideLabels=False, gridColor='#999999',\n",
    "                gridWidth=1.0):\n",
    "    \"\"\"Template for generating the plot layout.\"\"\"\n",
    "    plt.close()\n",
    "    fig, ax = plt.subplots(figsize=figsize, facecolor='white', edgecolor='white')\n",
    "    ax.axes.tick_params(labelcolor='#999999', labelsize='10')\n",
    "    for axis, ticks in [(ax.get_xaxis(), xticks), (ax.get_yaxis(), yticks)]:\n",
    "        axis.set_ticks_position('none')\n",
    "        axis.set_ticks(ticks)\n",
    "        axis.label.set_color('#999999')\n",
    "        if hideLabels: axis.set_ticklabels([])\n",
    "    plt.grid(color=gridColor, linewidth=gridWidth, linestyle='-')\n",
    "    map(lambda position: ax.spines[position].set_visible(False), ['bottom', 'top', 'left', 'right'])\n",
    "    return fig, ax\n",
    "\n",
    "# generate layout and plot data\n",
    "fig, ax = preparePlot(np.arange(0, 10, 1), np.arange(4, 14, 2))\n",
    "ax.set_xlabel(r'$\\log_e(bucketSize)$'), ax.set_ylabel(r'$\\log_e(countInBucket)$')\n",
    "plt.scatter(x, y, s=14**2, c='#d6ebf2', edgecolors='#8cbfd0', alpha=0.75)\n",
    "pass"
   ]
  },
  {
   "cell_type": "markdown",
   "metadata": {},
   "source": [
    "#### **(3e) Handling unseen features **\n",
    "#### We naturally would like to repeat the process from Part (3d), e.g., to compute OHE features for the validation and test datasets.  However, we must be careful, as some categorical values will likely appear in new data that did not exist in the training data. To deal with this situation, update the `oneHotEncoding()` function from Part (1d) to ignore previously unseen categories, and then compute OHE features for the validation data."
   ]
  },
  {
   "cell_type": "code",
   "execution_count": 38,
   "metadata": {
    "collapsed": false
   },
   "outputs": [
    {
     "name": "stdout",
     "output_type": "stream",
     "text": [
      "[LabeledPoint(0.0, (233286,[7623,9238,15597,21650,31238,36177,36577,39536,49203,61797,66635,67253,68245,68344,73075,76724,81421,81485,92068,96986,98511,109720,117014,121550,141683,146472,147618,171119,184096,184644,185457,185819,194734,198514,201019,210722,213593,222178,227716],[1.0,1.0,1.0,1.0,1.0,1.0,1.0,1.0,1.0,1.0,1.0,1.0,1.0,1.0,1.0,1.0,1.0,1.0,1.0,1.0,1.0,1.0,1.0,1.0,1.0,1.0,1.0,1.0,1.0,1.0,1.0,1.0,1.0,1.0,1.0,1.0,1.0,1.0,1.0]))]\n"
     ]
    }
   ],
   "source": [
    "# TODO: Replace <FILL IN> with appropriate code\n",
    "def oneHotEncoding(rawFeats, OHEDict, numOHEFeats):\n",
    "    \n",
    "    \"\"\"Produce a one-hot-encoding from a list of features and an OHE dictionary.\n",
    "\n",
    "    Note:\n",
    "        If a (featureID, value) tuple doesn't have a corresponding key in OHEDict it should be\n",
    "        ignored.\n",
    "\n",
    "    Args:\n",
    "        rawFeats (list of (int, str)): The features corresponding to a single observation.  Each\n",
    "            feature consists of a tuple of featureID and the feature's value. (e.g. sampleOne)\n",
    "        OHEDict (dict): A mapping of (featureID, value) to unique integer.\n",
    "        numOHEFeats (int): The total number of unique OHE features (combinations of featureID and\n",
    "            value).\n",
    "\n",
    "    Returns:\n",
    "        SparseVector: A SparseVector of length numOHEFeats with indicies equal to the unique\n",
    "            identifiers for the (featureID, value) combinations that occur in the observation and\n",
    "            with values equal to 1.0.\n",
    "    \"\"\"\n",
    "    \n",
    "    \n",
    "    \n",
    "    ## CONSIDER THIS:\n",
    "    #\n",
    "    # return oneHotEncoding(filter(lambda key: key in OHEDict, rawFeats), \n",
    "    #                  OHEDict, \n",
    "    #                  numOHEFeats)\n",
    "    #\n",
    "    \n",
    "    \n",
    "    # TODO: Replace <FILL IN> with appropriate code\n",
    "    def oneHotEncodingAux(rawFeats, OHEDict, numOHEFeats):\n",
    "        a = [int(OHEDict[x]) for x in rawFeats]\n",
    "        a = np.sort(a)\n",
    "        b = [1. for x in rawFeats]\n",
    "        return SparseVector(numOHEFeats,a,b)\n",
    "    \n",
    "    \n",
    "    \n",
    "    return oneHotEncodingAux(filter(lambda key: key in OHEDict, rawFeats),OHEDict,numOHEFeats)\n",
    "\n",
    "\n",
    "    #a = [int(OHEDict[x]) for x in rawFeats]\n",
    "    #a = [int(OHEDict[x]) for x in rawFeats if x in rawTrainData]\n",
    "    # \n",
    "    \n",
    "    #a = np.sort(a)\n",
    "    #b = [1. for x in rawFeats]\n",
    "    #b = [1. for x in rawFeats if x in rawTrainData]\n",
    "\n",
    "\n",
    "#\n",
    "\n",
    "#===============\n",
    "OHEValidationData = rawValidationData.map(lambda point: parseOHEPoint(point, ctrOHEDict, numCtrOHEFeats))\n",
    "OHEValidationData.cache()\n",
    "print OHEValidationData.take(1)"
   ]
  },
  {
   "cell_type": "code",
   "execution_count": 39,
   "metadata": {
    "collapsed": false
   },
   "outputs": [
    {
     "name": "stdout",
     "output_type": "stream",
     "text": [
      "1 test passed.\n"
     ]
    }
   ],
   "source": [
    "# TEST Handling unseen features (3e)\n",
    "numNZVal = (OHEValidationData\n",
    "            .map(lambda lp: len(lp.features.indices))\n",
    "            .sum())\n",
    "Test.assertEquals(numNZVal, 372080, 'incorrect number of features')"
   ]
  },
  {
   "cell_type": "markdown",
   "metadata": {},
   "source": [
    "### ** Part 4: CTR prediction and logloss evaluation **"
   ]
  },
  {
   "cell_type": "markdown",
   "metadata": {},
   "source": [
    "#### ** (4a) Logistic regression **\n",
    "#### We are now ready to train our first CTR classifier.  A natural classifier to use in this setting is logistic regression, since it models the probability of a click-through event rather than returning a binary response, and when working with rare events, probabilistic predictions are useful.  First use [LogisticRegressionWithSGD](https://spark.apache.org/docs/latest/api/python/pyspark.mllib.html#pyspark.mllib.classification.LogisticRegressionWithSGD) to train a model using `OHETrainData` with the given hyperparameter configuration.  `LogisticRegressionWithSGD` returns a [LogisticRegressionModel](https://spark.apache.org/docs/latest/api/python/pyspark.mllib.html#pyspark.mllib.regression.LogisticRegressionModel).  Next, use the `LogisticRegressionModel.weights` and `LogisticRegressionModel.intercept` attributes to print out the model's parameters.  Note that these are the names of the object's attributes and should be called using a syntax like `model.weights` for a given `model`."
   ]
  },
  {
   "cell_type": "code",
   "execution_count": 40,
   "metadata": {
    "collapsed": false
   },
   "outputs": [],
   "source": [
    "from pyspark.mllib.classification import LogisticRegressionWithSGD\n",
    "\n",
    "# fixed hyperparameters\n",
    "numIters = 50